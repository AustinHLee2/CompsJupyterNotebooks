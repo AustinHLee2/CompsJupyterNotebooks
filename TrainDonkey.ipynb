{
  "nbformat": 4,
  "nbformat_minor": 0,
  "metadata": {
    "colab": {
      "name": "TrainDonkey.ipynb",
      "version": "0.3.2",
      "provenance": [],
      "private_outputs": true,
      "collapsed_sections": []
    },
    "kernelspec": {
      "name": "python3",
      "display_name": "Python 3"
    },
    "accelerator": "GPU"
  },
  "cells": [
    {
      "metadata": {
        "id": "hbMtyS71vevR",
        "colab_type": "text"
      },
      "cell_type": "markdown",
      "source": [
        "This is a Colab notebook to train your Donkey pilot in the cloud using free accelerated gpu machines.\n",
        "\n",
        "Select a cell by clicking on it. Then click the left arrow to run, or ctrl+enter on your keyboard.\n"
      ]
    },
    {
      "metadata": {
        "id": "1UtdsBmO1oWz",
        "colab_type": "code",
        "colab": {}
      },
      "cell_type": "code",
      "source": [
        "#make sure tensorflow is setup, and is using GPU\n",
        "import tensorflow as tf\n",
        "print(tf.__version__)\n",
        "tf.test.gpu_device_name()\n",
        "\n",
        "#if gpu is detected, you should see something like: '/device:GPU:0', if not, then no gpu is enabled."
      ],
      "execution_count": 0,
      "outputs": []
    },
    {
      "metadata": {
        "id": "pkYzt_cF8Ycv",
        "colab_type": "code",
        "colab": {}
      },
      "cell_type": "code",
      "source": [
        "ls"
      ],
      "execution_count": 0,
      "outputs": []
    },
    {
      "metadata": {
        "id": "q0-NzaxhmTUc",
        "colab_type": "code",
        "colab": {}
      },
      "cell_type": "code",
      "source": [
        "#install donkey from github\n",
        "!git clone https://github.com/autorope/donkeycar.git"
      ],
      "execution_count": 0,
      "outputs": []
    },
    {
      "metadata": {
        "id": "b2HWdlFcnsY3",
        "colab_type": "code",
        "colab": {}
      },
      "cell_type": "code",
      "source": [
        "#create a working dir from templates"
      ],
      "execution_count": 0,
      "outputs": []
    },
    {
      "metadata": {
        "id": "TFXLPAqVGZP-",
        "colab_type": "code",
        "colab": {}
      },
      "cell_type": "code",
      "source": [
        "!pip install -e ./donkeycar"
      ],
      "execution_count": 0,
      "outputs": []
    },
    {
      "metadata": {
        "id": "GkYLxfbNuyTj",
        "colab_type": "text"
      },
      "cell_type": "markdown",
      "source": [
        "You will need to tar your files before uploading them. In your machine, do:\n",
        "\n",
        "```\n",
        "cd d2\n",
        "\n",
        "tar -cf tub_data.tar data\n",
        "```\n",
        "\n",
        "to make a tar file with all your tubs in it. Then run the cell below to upload the tar file.\n"
      ]
    },
    {
      "metadata": {
        "id": "l80GicdCmRWz",
        "colab_type": "code",
        "colab": {}
      },
      "cell_type": "code",
      "source": [
        "#this will upload your files\n",
        "\n",
        "from google.colab import files\n",
        "\n",
        "uploaded = files.upload()\n",
        "\n",
        "for fn in uploaded.keys():\n",
        "  print('User uploaded file \"{name}\" with length {length} bytes'.format(\n",
        "      name=fn, length=len(uploaded[fn])))"
      ],
      "execution_count": 0,
      "outputs": []
    },
    {
      "metadata": {
        "id": "tmP2_kiv-jE3",
        "colab_type": "code",
        "colab": {}
      },
      "cell_type": "code",
      "source": [
        "cd donkeycar"
      ],
      "execution_count": 0,
      "outputs": []
    },
    {
      "metadata": {
        "id": "JzFdYhg-_KOE",
        "colab_type": "code",
        "colab": {}
      },
      "cell_type": "code",
      "source": [
        "!donkey createcar d2"
      ],
      "execution_count": 0,
      "outputs": []
    },
    {
      "metadata": {
        "id": "r7OVgi--_l8u",
        "colab_type": "code",
        "colab": {}
      },
      "cell_type": "code",
      "source": [
        "cd .."
      ],
      "execution_count": 0,
      "outputs": []
    },
    {
      "metadata": {
        "id": "f-GKnxLlq2gW",
        "colab_type": "code",
        "colab": {}
      },
      "cell_type": "code",
      "source": [
        "#move tar and extract it, confirm that the data made it up there ok\n",
        "!mv tub_data.tar donkeycar/d2; cd donkeycar/d2; tar -xf tub_data.tar;\n"
      ],
      "execution_count": 0,
      "outputs": []
    },
    {
      "metadata": {
        "id": "EyFyKeff-U8m",
        "colab_type": "code",
        "colab": {}
      },
      "cell_type": "code",
      "source": [
        "!python /content/donkeycar/d2/manage.py train --tub /content/donkeycar/d2/tub --model /content/donkeycar/d2/models/mypilot"
      ],
      "execution_count": 0,
      "outputs": []
    },
    {
      "metadata": {
        "id": "eREk6NOCC_mb",
        "colab_type": "code",
        "colab": {}
      },
      "cell_type": "code",
      "source": [
        "cd donkeycar/d2/models/"
      ],
      "execution_count": 0,
      "outputs": []
    },
    {
      "metadata": {
        "id": "B5Gvh5TOuf7b",
        "colab_type": "code",
        "colab": {}
      },
      "cell_type": "code",
      "source": [
        "#download the finished file:\n",
        "\n",
        "from google.colab import files\n",
        "files.download('mypilot')"
      ],
      "execution_count": 0,
      "outputs": []
    },
    {
      "metadata": {
        "id": "mhrDJ41viTKB",
        "colab_type": "code",
        "colab": {}
      },
      "cell_type": "code",
      "source": [
        "!pip list"
      ],
      "execution_count": 0,
      "outputs": []
    },
    {
      "metadata": {
        "id": "Qo-Nk8Xjj3pD",
        "colab_type": "code",
        "colab": {}
      },
      "cell_type": "code",
      "source": [
        ""
      ],
      "execution_count": 0,
      "outputs": []
    }
  ]
}